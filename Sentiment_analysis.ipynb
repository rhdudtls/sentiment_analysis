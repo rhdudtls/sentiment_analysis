{
 "cells": [
  {
   "cell_type": "code",
   "execution_count": 8,
   "id": "a25ccb55",
   "metadata": {},
   "outputs": [],
   "source": [
    "import pandas as pd"
   ]
  },
  {
   "cell_type": "code",
   "execution_count": 9,
   "id": "754e148c",
   "metadata": {
    "scrolled": true
   },
   "outputs": [
    {
     "data": {
      "text/html": [
       "<div>\n",
       "<style scoped>\n",
       "    .dataframe tbody tr th:only-of-type {\n",
       "        vertical-align: middle;\n",
       "    }\n",
       "\n",
       "    .dataframe tbody tr th {\n",
       "        vertical-align: top;\n",
       "    }\n",
       "\n",
       "    .dataframe thead th {\n",
       "        text-align: right;\n",
       "    }\n",
       "</style>\n",
       "<table border=\"1\" class=\"dataframe\">\n",
       "  <thead>\n",
       "    <tr style=\"text-align: right;\">\n",
       "      <th></th>\n",
       "      <th>category</th>\n",
       "      <th>review_type</th>\n",
       "      <th>rating</th>\n",
       "      <th>consumer</th>\n",
       "      <th>consumer rating</th>\n",
       "      <th>brand_name</th>\n",
       "      <th>review</th>\n",
       "    </tr>\n",
       "  </thead>\n",
       "  <tbody>\n",
       "    <tr>\n",
       "      <th>0</th>\n",
       "      <td>상의</td>\n",
       "      <td>1</td>\n",
       "      <td>4.9</td>\n",
       "      <td>남성, 170cm, 90kg</td>\n",
       "      <td>3</td>\n",
       "      <td>푸마 셀렉트</td>\n",
       "      <td>조금 작습니다 ㅜㅜ 한치수 크게살걸 그랬습니다 아쉽네요</td>\n",
       "    </tr>\n",
       "    <tr>\n",
       "      <th>1</th>\n",
       "      <td>상의</td>\n",
       "      <td>1</td>\n",
       "      <td>4.9</td>\n",
       "      <td>남성, 175cm, 69kg</td>\n",
       "      <td>3</td>\n",
       "      <td>푸마 셀렉트</td>\n",
       "      <td>무적권 사세요…핏이 진짜 이쁘고 소재도 밀도가 높아서 오버한 핏이 잘잡힘\\n\\n색깔...</td>\n",
       "    </tr>\n",
       "    <tr>\n",
       "      <th>2</th>\n",
       "      <td>상의</td>\n",
       "      <td>1</td>\n",
       "      <td>4.9</td>\n",
       "      <td>남성, 174cm, 75kg</td>\n",
       "      <td>4</td>\n",
       "      <td>푸마 셀렉트</td>\n",
       "      <td>후드티라 더 더워지기전에 자주 입을것 같아 만족합니다</td>\n",
       "    </tr>\n",
       "    <tr>\n",
       "      <th>3</th>\n",
       "      <td>상의</td>\n",
       "      <td>1</td>\n",
       "      <td>4.9</td>\n",
       "      <td>남성, 170cm, 60kg</td>\n",
       "      <td>4</td>\n",
       "      <td>푸마 셀렉트</td>\n",
       "      <td>꽤나 두껍네요. 늦봄까지 입기엔 글쎄요 하지만 옷이 이뻐서 그래도 더울것같네요</td>\n",
       "    </tr>\n",
       "    <tr>\n",
       "      <th>4</th>\n",
       "      <td>상의</td>\n",
       "      <td>1</td>\n",
       "      <td>4.9</td>\n",
       "      <td>남성, 178cm, 75kg</td>\n",
       "      <td>4</td>\n",
       "      <td>푸마 셀렉트</td>\n",
       "      <td>두껍지 않지만 탄탄한 후드입니다 몸 기장과 팔 기장이 통에 비해 길진 x</td>\n",
       "    </tr>\n",
       "    <tr>\n",
       "      <th>...</th>\n",
       "      <td>...</td>\n",
       "      <td>...</td>\n",
       "      <td>...</td>\n",
       "      <td>...</td>\n",
       "      <td>...</td>\n",
       "      <td>...</td>\n",
       "      <td>...</td>\n",
       "    </tr>\n",
       "    <tr>\n",
       "      <th>20912</th>\n",
       "      <td>하의</td>\n",
       "      <td>1</td>\n",
       "      <td>4.8</td>\n",
       "      <td>남성, 164cm, 56kg</td>\n",
       "      <td>5</td>\n",
       "      <td>랩101</td>\n",
       "      <td>색감이 넘 이쁘고 핏도 맘에 들어요! 살짝 다운사이즈하면 스트레이트 핏으로 이쁜거같...</td>\n",
       "    </tr>\n",
       "    <tr>\n",
       "      <th>20913</th>\n",
       "      <td>하의</td>\n",
       "      <td>1</td>\n",
       "      <td>4.8</td>\n",
       "      <td>남성, 164cm, 56kg</td>\n",
       "      <td>5</td>\n",
       "      <td>랩101</td>\n",
       "      <td>바지 핏이 세미와이드 핏이 나와서 너무 이뻐요\\n지금이 딱 입기 좋은 적정시기인거같...</td>\n",
       "    </tr>\n",
       "    <tr>\n",
       "      <th>20914</th>\n",
       "      <td>하의</td>\n",
       "      <td>1</td>\n",
       "      <td>4.8</td>\n",
       "      <td>남성, 164cm, 56kg</td>\n",
       "      <td>5</td>\n",
       "      <td>랩101</td>\n",
       "      <td>발등 덮으면서 루즈하게 떨어지는 청바지 가성비로 최고입니다! 색감은 중청에 가까운 ...</td>\n",
       "    </tr>\n",
       "    <tr>\n",
       "      <th>20915</th>\n",
       "      <td>하의</td>\n",
       "      <td>1</td>\n",
       "      <td>4.8</td>\n",
       "      <td>남성, 164cm, 56kg</td>\n",
       "      <td>5</td>\n",
       "      <td>랩101</td>\n",
       "      <td>체격이 말라서 사이즈에 맞는 세미와이드 찾기 힘들었는데 사이즈도 맞고 핏도 예쁘네요!</td>\n",
       "    </tr>\n",
       "    <tr>\n",
       "      <th>20916</th>\n",
       "      <td>하의</td>\n",
       "      <td>1</td>\n",
       "      <td>4.8</td>\n",
       "      <td>남성, 164cm, 56kg</td>\n",
       "      <td>5</td>\n",
       "      <td>랩101</td>\n",
       "      <td>진짜 색감 너무 이쁘고 총장 수선만 진행했습니다!\\n와이드핏 청바지 꼭 필요했었는데...</td>\n",
       "    </tr>\n",
       "  </tbody>\n",
       "</table>\n",
       "<p>20917 rows × 7 columns</p>\n",
       "</div>"
      ],
      "text/plain": [
       "      category  review_type  rating         consumer  consumer rating  \\\n",
       "0           상의            1     4.9  남성, 170cm, 90kg                3   \n",
       "1           상의            1     4.9  남성, 175cm, 69kg                3   \n",
       "2           상의            1     4.9  남성, 174cm, 75kg                4   \n",
       "3           상의            1     4.9  남성, 170cm, 60kg                4   \n",
       "4           상의            1     4.9  남성, 178cm, 75kg                4   \n",
       "...        ...          ...     ...              ...              ...   \n",
       "20912       하의            1     4.8  남성, 164cm, 56kg                5   \n",
       "20913       하의            1     4.8  남성, 164cm, 56kg                5   \n",
       "20914       하의            1     4.8  남성, 164cm, 56kg                5   \n",
       "20915       하의            1     4.8  남성, 164cm, 56kg                5   \n",
       "20916       하의            1     4.8  남성, 164cm, 56kg                5   \n",
       "\n",
       "      brand_name                                             review  \n",
       "0         푸마 셀렉트                     조금 작습니다 ㅜㅜ 한치수 크게살걸 그랬습니다 아쉽네요  \n",
       "1         푸마 셀렉트  무적권 사세요…핏이 진짜 이쁘고 소재도 밀도가 높아서 오버한 핏이 잘잡힘\\n\\n색깔...  \n",
       "2         푸마 셀렉트                      후드티라 더 더워지기전에 자주 입을것 같아 만족합니다  \n",
       "3         푸마 셀렉트        꽤나 두껍네요. 늦봄까지 입기엔 글쎄요 하지만 옷이 이뻐서 그래도 더울것같네요  \n",
       "4         푸마 셀렉트           두껍지 않지만 탄탄한 후드입니다 몸 기장과 팔 기장이 통에 비해 길진 x  \n",
       "...          ...                                                ...  \n",
       "20912       랩101  색감이 넘 이쁘고 핏도 맘에 들어요! 살짝 다운사이즈하면 스트레이트 핏으로 이쁜거같...  \n",
       "20913       랩101  바지 핏이 세미와이드 핏이 나와서 너무 이뻐요\\n지금이 딱 입기 좋은 적정시기인거같...  \n",
       "20914       랩101  발등 덮으면서 루즈하게 떨어지는 청바지 가성비로 최고입니다! 색감은 중청에 가까운 ...  \n",
       "20915       랩101    체격이 말라서 사이즈에 맞는 세미와이드 찾기 힘들었는데 사이즈도 맞고 핏도 예쁘네요!  \n",
       "20916       랩101  진짜 색감 너무 이쁘고 총장 수선만 진행했습니다!\\n와이드핏 청바지 꼭 필요했었는데...  \n",
       "\n",
       "[20917 rows x 7 columns]"
      ]
     },
     "execution_count": 9,
     "metadata": {},
     "output_type": "execute_result"
    }
   ],
   "source": [
    "all_data = pd.read_csv('reviewlabel.csv', encoding = 'utf-8')\n",
    "all_data"
   ]
  },
  {
   "cell_type": "code",
   "execution_count": 10,
   "id": "3e2a27a7",
   "metadata": {},
   "outputs": [],
   "source": [
    "del all_data['category']\n",
    "del all_data['rating']\n",
    "del all_data['consumer']\n",
    "del all_data['brand_name']"
   ]
  },
  {
   "cell_type": "code",
   "execution_count": 11,
   "id": "720d5ce1",
   "metadata": {
    "scrolled": true
   },
   "outputs": [
    {
     "data": {
      "text/html": [
       "<div>\n",
       "<style scoped>\n",
       "    .dataframe tbody tr th:only-of-type {\n",
       "        vertical-align: middle;\n",
       "    }\n",
       "\n",
       "    .dataframe tbody tr th {\n",
       "        vertical-align: top;\n",
       "    }\n",
       "\n",
       "    .dataframe thead th {\n",
       "        text-align: right;\n",
       "    }\n",
       "</style>\n",
       "<table border=\"1\" class=\"dataframe\">\n",
       "  <thead>\n",
       "    <tr style=\"text-align: right;\">\n",
       "      <th></th>\n",
       "      <th>review_type</th>\n",
       "      <th>consumer rating</th>\n",
       "      <th>review</th>\n",
       "    </tr>\n",
       "  </thead>\n",
       "  <tbody>\n",
       "    <tr>\n",
       "      <th>0</th>\n",
       "      <td>1</td>\n",
       "      <td>3</td>\n",
       "      <td>조금 작습니다 ㅜㅜ 한치수 크게살걸 그랬습니다 아쉽네요</td>\n",
       "    </tr>\n",
       "    <tr>\n",
       "      <th>1</th>\n",
       "      <td>1</td>\n",
       "      <td>3</td>\n",
       "      <td>무적권 사세요…핏이 진짜 이쁘고 소재도 밀도가 높아서 오버한 핏이 잘잡힘\\n\\n색깔...</td>\n",
       "    </tr>\n",
       "    <tr>\n",
       "      <th>2</th>\n",
       "      <td>1</td>\n",
       "      <td>4</td>\n",
       "      <td>후드티라 더 더워지기전에 자주 입을것 같아 만족합니다</td>\n",
       "    </tr>\n",
       "    <tr>\n",
       "      <th>3</th>\n",
       "      <td>1</td>\n",
       "      <td>4</td>\n",
       "      <td>꽤나 두껍네요. 늦봄까지 입기엔 글쎄요 하지만 옷이 이뻐서 그래도 더울것같네요</td>\n",
       "    </tr>\n",
       "    <tr>\n",
       "      <th>4</th>\n",
       "      <td>1</td>\n",
       "      <td>4</td>\n",
       "      <td>두껍지 않지만 탄탄한 후드입니다 몸 기장과 팔 기장이 통에 비해 길진 x</td>\n",
       "    </tr>\n",
       "    <tr>\n",
       "      <th>...</th>\n",
       "      <td>...</td>\n",
       "      <td>...</td>\n",
       "      <td>...</td>\n",
       "    </tr>\n",
       "    <tr>\n",
       "      <th>20912</th>\n",
       "      <td>1</td>\n",
       "      <td>5</td>\n",
       "      <td>색감이 넘 이쁘고 핏도 맘에 들어요! 살짝 다운사이즈하면 스트레이트 핏으로 이쁜거같...</td>\n",
       "    </tr>\n",
       "    <tr>\n",
       "      <th>20913</th>\n",
       "      <td>1</td>\n",
       "      <td>5</td>\n",
       "      <td>바지 핏이 세미와이드 핏이 나와서 너무 이뻐요\\n지금이 딱 입기 좋은 적정시기인거같...</td>\n",
       "    </tr>\n",
       "    <tr>\n",
       "      <th>20914</th>\n",
       "      <td>1</td>\n",
       "      <td>5</td>\n",
       "      <td>발등 덮으면서 루즈하게 떨어지는 청바지 가성비로 최고입니다! 색감은 중청에 가까운 ...</td>\n",
       "    </tr>\n",
       "    <tr>\n",
       "      <th>20915</th>\n",
       "      <td>1</td>\n",
       "      <td>5</td>\n",
       "      <td>체격이 말라서 사이즈에 맞는 세미와이드 찾기 힘들었는데 사이즈도 맞고 핏도 예쁘네요!</td>\n",
       "    </tr>\n",
       "    <tr>\n",
       "      <th>20916</th>\n",
       "      <td>1</td>\n",
       "      <td>5</td>\n",
       "      <td>진짜 색감 너무 이쁘고 총장 수선만 진행했습니다!\\n와이드핏 청바지 꼭 필요했었는데...</td>\n",
       "    </tr>\n",
       "  </tbody>\n",
       "</table>\n",
       "<p>20917 rows × 3 columns</p>\n",
       "</div>"
      ],
      "text/plain": [
       "       review_type  consumer rating  \\\n",
       "0                1                3   \n",
       "1                1                3   \n",
       "2                1                4   \n",
       "3                1                4   \n",
       "4                1                4   \n",
       "...            ...              ...   \n",
       "20912            1                5   \n",
       "20913            1                5   \n",
       "20914            1                5   \n",
       "20915            1                5   \n",
       "20916            1                5   \n",
       "\n",
       "                                                  review  \n",
       "0                         조금 작습니다 ㅜㅜ 한치수 크게살걸 그랬습니다 아쉽네요  \n",
       "1      무적권 사세요…핏이 진짜 이쁘고 소재도 밀도가 높아서 오버한 핏이 잘잡힘\\n\\n색깔...  \n",
       "2                          후드티라 더 더워지기전에 자주 입을것 같아 만족합니다  \n",
       "3            꽤나 두껍네요. 늦봄까지 입기엔 글쎄요 하지만 옷이 이뻐서 그래도 더울것같네요  \n",
       "4               두껍지 않지만 탄탄한 후드입니다 몸 기장과 팔 기장이 통에 비해 길진 x  \n",
       "...                                                  ...  \n",
       "20912  색감이 넘 이쁘고 핏도 맘에 들어요! 살짝 다운사이즈하면 스트레이트 핏으로 이쁜거같...  \n",
       "20913  바지 핏이 세미와이드 핏이 나와서 너무 이뻐요\\n지금이 딱 입기 좋은 적정시기인거같...  \n",
       "20914  발등 덮으면서 루즈하게 떨어지는 청바지 가성비로 최고입니다! 색감은 중청에 가까운 ...  \n",
       "20915    체격이 말라서 사이즈에 맞는 세미와이드 찾기 힘들었는데 사이즈도 맞고 핏도 예쁘네요!  \n",
       "20916  진짜 색감 너무 이쁘고 총장 수선만 진행했습니다!\\n와이드핏 청바지 꼭 필요했었는데...  \n",
       "\n",
       "[20917 rows x 3 columns]"
      ]
     },
     "execution_count": 11,
     "metadata": {},
     "output_type": "execute_result"
    }
   ],
   "source": [
    "all_data"
   ]
  },
  {
   "cell_type": "code",
   "execution_count": 12,
   "id": "d76f98d2",
   "metadata": {},
   "outputs": [
    {
     "name": "stdout",
     "output_type": "stream",
     "text": [
      "<class 'pandas.core.frame.DataFrame'>\n",
      "RangeIndex: 20917 entries, 0 to 20916\n",
      "Data columns (total 3 columns):\n",
      " #   Column           Non-Null Count  Dtype \n",
      "---  ------           --------------  ----- \n",
      " 0   review_type      20917 non-null  int64 \n",
      " 1   consumer rating  20917 non-null  int64 \n",
      " 2   review           20917 non-null  object\n",
      "dtypes: int64(2), object(1)\n",
      "memory usage: 490.4+ KB\n"
     ]
    }
   ],
   "source": [
    "all_data.info()"
   ]
  },
  {
   "cell_type": "code",
   "execution_count": 13,
   "id": "9782fc91",
   "metadata": {},
   "outputs": [
    {
     "data": {
      "text/plain": [
       "1    19123\n",
       "0     1794\n",
       "Name: review_type, dtype: int64"
      ]
     },
     "execution_count": 13,
     "metadata": {},
     "output_type": "execute_result"
    }
   ],
   "source": [
    "all_data['review_type'].value_counts()"
   ]
  },
  {
   "cell_type": "code",
   "execution_count": 14,
   "id": "713997e9",
   "metadata": {},
   "outputs": [],
   "source": [
    "import re"
   ]
  },
  {
   "cell_type": "code",
   "execution_count": 15,
   "id": "a39095db",
   "metadata": {},
   "outputs": [
    {
     "data": {
      "text/html": [
       "<div>\n",
       "<style scoped>\n",
       "    .dataframe tbody tr th:only-of-type {\n",
       "        vertical-align: middle;\n",
       "    }\n",
       "\n",
       "    .dataframe tbody tr th {\n",
       "        vertical-align: top;\n",
       "    }\n",
       "\n",
       "    .dataframe thead th {\n",
       "        text-align: right;\n",
       "    }\n",
       "</style>\n",
       "<table border=\"1\" class=\"dataframe\">\n",
       "  <thead>\n",
       "    <tr style=\"text-align: right;\">\n",
       "      <th></th>\n",
       "      <th>review_type</th>\n",
       "      <th>consumer rating</th>\n",
       "      <th>review</th>\n",
       "    </tr>\n",
       "  </thead>\n",
       "  <tbody>\n",
       "    <tr>\n",
       "      <th>0</th>\n",
       "      <td>1</td>\n",
       "      <td>3</td>\n",
       "      <td>조금 작습니다 ㅜㅜ 한치수 크게살걸 그랬습니다 아쉽네요</td>\n",
       "    </tr>\n",
       "    <tr>\n",
       "      <th>1</th>\n",
       "      <td>1</td>\n",
       "      <td>3</td>\n",
       "      <td>무적권 사세요 핏이 진짜 이쁘고 소재도 밀도가 높아서 오버한 핏이 잘잡힘 색깔은 쨍...</td>\n",
       "    </tr>\n",
       "    <tr>\n",
       "      <th>2</th>\n",
       "      <td>1</td>\n",
       "      <td>4</td>\n",
       "      <td>후드티라 더 더워지기전에 자주 입을것 같아 만족합니다</td>\n",
       "    </tr>\n",
       "    <tr>\n",
       "      <th>3</th>\n",
       "      <td>1</td>\n",
       "      <td>4</td>\n",
       "      <td>꽤나 두껍네요  늦봄까지 입기엔 글쎄요 하지만 옷이 이뻐서 그래도 더울것같네요</td>\n",
       "    </tr>\n",
       "    <tr>\n",
       "      <th>4</th>\n",
       "      <td>1</td>\n",
       "      <td>4</td>\n",
       "      <td>두껍지 않지만 탄탄한 후드입니다 몸 기장과 팔 기장이 통에 비해 길진</td>\n",
       "    </tr>\n",
       "  </tbody>\n",
       "</table>\n",
       "</div>"
      ],
      "text/plain": [
       "   review_type  consumer rating  \\\n",
       "0            1                3   \n",
       "1            1                3   \n",
       "2            1                4   \n",
       "3            1                4   \n",
       "4            1                4   \n",
       "\n",
       "                                              review  \n",
       "0                     조금 작습니다 ㅜㅜ 한치수 크게살걸 그랬습니다 아쉽네요  \n",
       "1  무적권 사세요 핏이 진짜 이쁘고 소재도 밀도가 높아서 오버한 핏이 잘잡힘 색깔은 쨍...  \n",
       "2                      후드티라 더 더워지기전에 자주 입을것 같아 만족합니다  \n",
       "3        꽤나 두껍네요  늦봄까지 입기엔 글쎄요 하지만 옷이 이뻐서 그래도 더울것같네요  \n",
       "4           두껍지 않지만 탄탄한 후드입니다 몸 기장과 팔 기장이 통에 비해 길진    "
      ]
     },
     "execution_count": 15,
     "metadata": {},
     "output_type": "execute_result"
    }
   ],
   "source": [
    "all_data['review'] = all_data['review'].apply(lambda x : re.sub(r'[^ ㄱ-ㅣ가-힣]+', \" \", x))\n",
    "all_data.head()"
   ]
  },
  {
   "cell_type": "code",
   "execution_count": 16,
   "id": "7a93105a",
   "metadata": {},
   "outputs": [],
   "source": [
    "from sklearn.model_selection import train_test_split"
   ]
  },
  {
   "cell_type": "code",
   "execution_count": 17,
   "id": "12e147c2",
   "metadata": {},
   "outputs": [],
   "source": [
    "alldata = all_data.rename(columns = {'consumer rating' : 'consumer_rating'}, inplace = True)"
   ]
  },
  {
   "cell_type": "code",
   "execution_count": 18,
   "id": "3e4ac93d",
   "metadata": {
    "scrolled": true
   },
   "outputs": [
    {
     "data": {
      "text/html": [
       "<div>\n",
       "<style scoped>\n",
       "    .dataframe tbody tr th:only-of-type {\n",
       "        vertical-align: middle;\n",
       "    }\n",
       "\n",
       "    .dataframe tbody tr th {\n",
       "        vertical-align: top;\n",
       "    }\n",
       "\n",
       "    .dataframe thead th {\n",
       "        text-align: right;\n",
       "    }\n",
       "</style>\n",
       "<table border=\"1\" class=\"dataframe\">\n",
       "  <thead>\n",
       "    <tr style=\"text-align: right;\">\n",
       "      <th></th>\n",
       "      <th>review_type</th>\n",
       "      <th>consumer_rating</th>\n",
       "      <th>review</th>\n",
       "    </tr>\n",
       "  </thead>\n",
       "  <tbody>\n",
       "    <tr>\n",
       "      <th>0</th>\n",
       "      <td>1</td>\n",
       "      <td>3</td>\n",
       "      <td>조금 작습니다 ㅜㅜ 한치수 크게살걸 그랬습니다 아쉽네요</td>\n",
       "    </tr>\n",
       "    <tr>\n",
       "      <th>1</th>\n",
       "      <td>1</td>\n",
       "      <td>3</td>\n",
       "      <td>무적권 사세요 핏이 진짜 이쁘고 소재도 밀도가 높아서 오버한 핏이 잘잡힘 색깔은 쨍...</td>\n",
       "    </tr>\n",
       "    <tr>\n",
       "      <th>2</th>\n",
       "      <td>1</td>\n",
       "      <td>4</td>\n",
       "      <td>후드티라 더 더워지기전에 자주 입을것 같아 만족합니다</td>\n",
       "    </tr>\n",
       "    <tr>\n",
       "      <th>3</th>\n",
       "      <td>1</td>\n",
       "      <td>4</td>\n",
       "      <td>꽤나 두껍네요  늦봄까지 입기엔 글쎄요 하지만 옷이 이뻐서 그래도 더울것같네요</td>\n",
       "    </tr>\n",
       "    <tr>\n",
       "      <th>4</th>\n",
       "      <td>1</td>\n",
       "      <td>4</td>\n",
       "      <td>두껍지 않지만 탄탄한 후드입니다 몸 기장과 팔 기장이 통에 비해 길진</td>\n",
       "    </tr>\n",
       "    <tr>\n",
       "      <th>...</th>\n",
       "      <td>...</td>\n",
       "      <td>...</td>\n",
       "      <td>...</td>\n",
       "    </tr>\n",
       "    <tr>\n",
       "      <th>20912</th>\n",
       "      <td>1</td>\n",
       "      <td>5</td>\n",
       "      <td>색감이 넘 이쁘고 핏도 맘에 들어요  살짝 다운사이즈하면 스트레이트 핏으로 이쁜거같...</td>\n",
       "    </tr>\n",
       "    <tr>\n",
       "      <th>20913</th>\n",
       "      <td>1</td>\n",
       "      <td>5</td>\n",
       "      <td>바지 핏이 세미와이드 핏이 나와서 너무 이뻐요 지금이 딱 입기 좋은 적정시기인거같습...</td>\n",
       "    </tr>\n",
       "    <tr>\n",
       "      <th>20914</th>\n",
       "      <td>1</td>\n",
       "      <td>5</td>\n",
       "      <td>발등 덮으면서 루즈하게 떨어지는 청바지 가성비로 최고입니다  색감은 중청에 가까운 ...</td>\n",
       "    </tr>\n",
       "    <tr>\n",
       "      <th>20915</th>\n",
       "      <td>1</td>\n",
       "      <td>5</td>\n",
       "      <td>체격이 말라서 사이즈에 맞는 세미와이드 찾기 힘들었는데 사이즈도 맞고 핏도 예쁘네요</td>\n",
       "    </tr>\n",
       "    <tr>\n",
       "      <th>20916</th>\n",
       "      <td>1</td>\n",
       "      <td>5</td>\n",
       "      <td>진짜 색감 너무 이쁘고 총장 수선만 진행했습니다 와이드핏 청바지 꼭 필요했었는데 좋...</td>\n",
       "    </tr>\n",
       "  </tbody>\n",
       "</table>\n",
       "<p>20917 rows × 3 columns</p>\n",
       "</div>"
      ],
      "text/plain": [
       "       review_type  consumer_rating  \\\n",
       "0                1                3   \n",
       "1                1                3   \n",
       "2                1                4   \n",
       "3                1                4   \n",
       "4                1                4   \n",
       "...            ...              ...   \n",
       "20912            1                5   \n",
       "20913            1                5   \n",
       "20914            1                5   \n",
       "20915            1                5   \n",
       "20916            1                5   \n",
       "\n",
       "                                                  review  \n",
       "0                         조금 작습니다 ㅜㅜ 한치수 크게살걸 그랬습니다 아쉽네요  \n",
       "1      무적권 사세요 핏이 진짜 이쁘고 소재도 밀도가 높아서 오버한 핏이 잘잡힘 색깔은 쨍...  \n",
       "2                          후드티라 더 더워지기전에 자주 입을것 같아 만족합니다  \n",
       "3            꽤나 두껍네요  늦봄까지 입기엔 글쎄요 하지만 옷이 이뻐서 그래도 더울것같네요  \n",
       "4               두껍지 않지만 탄탄한 후드입니다 몸 기장과 팔 기장이 통에 비해 길진    \n",
       "...                                                  ...  \n",
       "20912  색감이 넘 이쁘고 핏도 맘에 들어요  살짝 다운사이즈하면 스트레이트 핏으로 이쁜거같...  \n",
       "20913  바지 핏이 세미와이드 핏이 나와서 너무 이뻐요 지금이 딱 입기 좋은 적정시기인거같습...  \n",
       "20914  발등 덮으면서 루즈하게 떨어지는 청바지 가성비로 최고입니다  색감은 중청에 가까운 ...  \n",
       "20915    체격이 말라서 사이즈에 맞는 세미와이드 찾기 힘들었는데 사이즈도 맞고 핏도 예쁘네요   \n",
       "20916  진짜 색감 너무 이쁘고 총장 수선만 진행했습니다 와이드핏 청바지 꼭 필요했었는데 좋...  \n",
       "\n",
       "[20917 rows x 3 columns]"
      ]
     },
     "execution_count": 18,
     "metadata": {},
     "output_type": "execute_result"
    }
   ],
   "source": [
    "all_data"
   ]
  },
  {
   "cell_type": "code",
   "execution_count": 19,
   "id": "abffabe5",
   "metadata": {},
   "outputs": [],
   "source": [
    "Y = all_data['review_type']\n",
    "X = all_data.drop(['review_type'], axis = 1, inplace = False)\n",
    "\n",
    "X_train, X_test, Y_train, Y_test = train_test_split(X, Y, test_size = 0.3, random_state = 1)"
   ]
  },
  {
   "cell_type": "code",
   "execution_count": 20,
   "id": "95f95af3",
   "metadata": {},
   "outputs": [],
   "source": [
    "import konlpy"
   ]
  },
  {
   "cell_type": "code",
   "execution_count": 21,
   "id": "2fdc33e5",
   "metadata": {},
   "outputs": [],
   "source": [
    "from konlpy.tag import Okt\n",
    "okt=Okt()"
   ]
  },
  {
   "cell_type": "code",
   "execution_count": 22,
   "id": "972dbcf1",
   "metadata": {},
   "outputs": [],
   "source": [
    "def okt_tokenizer(text):\n",
    "    tokens = okt.morphs(text)\n",
    "    return tokens\n"
   ]
  },
  {
   "cell_type": "code",
   "execution_count": 23,
   "id": "b676e576",
   "metadata": {},
   "outputs": [
    {
     "name": "stderr",
     "output_type": "stream",
     "text": [
      "C:\\Users\\rhdud\\anaconda3\\lib\\site-packages\\sklearn\\feature_extraction\\text.py:516: UserWarning: The parameter 'token_pattern' will not be used since 'tokenizer' is not None'\n",
      "  warnings.warn(\n"
     ]
    }
   ],
   "source": [
    "from sklearn.feature_extraction.text import TfidfVectorizer\n",
    "\n",
    "tfidf = TfidfVectorizer(tokenizer = okt_tokenizer, ngram_range = (1,2), min_df = 3, max_df = 0.9)\n",
    "tfidf.fit(X_train['review'])\n",
    "train_tfidf = tfidf.transform(X_train['review'])"
   ]
  },
  {
   "cell_type": "code",
   "execution_count": 24,
   "id": "f19015b0",
   "metadata": {},
   "outputs": [],
   "source": [
    "from sklearn.linear_model import LogisticRegression\n",
    "\n",
    "SA_lr = LogisticRegression(random_state = 0)"
   ]
  },
  {
   "cell_type": "code",
   "execution_count": 25,
   "id": "114439fd",
   "metadata": {},
   "outputs": [
    {
     "data": {
      "text/plain": [
       "LogisticRegression(random_state=0)"
      ]
     },
     "execution_count": 25,
     "metadata": {},
     "output_type": "execute_result"
    }
   ],
   "source": [
    "SA_lr.fit(train_tfidf, Y_train)"
   ]
  },
  {
   "cell_type": "code",
   "execution_count": 26,
   "id": "52e2aae8",
   "metadata": {},
   "outputs": [],
   "source": [
    "from sklearn.model_selection import GridSearchCV\n",
    "\n",
    "params = {'C': [1, 3, 3.5, 4, 4.5, 5]}\n",
    "SA_lr_grid_cv = GridSearchCV(SA_lr, param_grid = params, cv = 3, scoring = 'accuracy', verbose = 1)"
   ]
  },
  {
   "cell_type": "code",
   "execution_count": 27,
   "id": "59dae1f6",
   "metadata": {},
   "outputs": [
    {
     "name": "stdout",
     "output_type": "stream",
     "text": [
      "Fitting 3 folds for each of 6 candidates, totalling 18 fits\n"
     ]
    },
    {
     "data": {
      "text/plain": [
       "GridSearchCV(cv=3, estimator=LogisticRegression(random_state=0),\n",
       "             param_grid={'C': [1, 3, 3.5, 4, 4.5, 5]}, scoring='accuracy',\n",
       "             verbose=1)"
      ]
     },
     "execution_count": 27,
     "metadata": {},
     "output_type": "execute_result"
    }
   ],
   "source": [
    "SA_lr_grid_cv.fit(train_tfidf, Y_train)"
   ]
  },
  {
   "cell_type": "code",
   "execution_count": 28,
   "id": "106a480a",
   "metadata": {},
   "outputs": [
    {
     "name": "stdout",
     "output_type": "stream",
     "text": [
      "{'C': 5} 0.9562\n"
     ]
    }
   ],
   "source": [
    "print(SA_lr_grid_cv.best_params_, round(SA_lr_grid_cv.best_score_, 4))"
   ]
  },
  {
   "cell_type": "code",
   "execution_count": 29,
   "id": "ebd2fb2f",
   "metadata": {},
   "outputs": [],
   "source": [
    "SA_lr_best = SA_lr_grid_cv.best_estimator_"
   ]
  },
  {
   "cell_type": "code",
   "execution_count": 30,
   "id": "17ec8403",
   "metadata": {},
   "outputs": [],
   "source": [
    "test_tfidf = tfidf.transform(X_test['review'])"
   ]
  },
  {
   "cell_type": "code",
   "execution_count": 31,
   "id": "4d542586",
   "metadata": {},
   "outputs": [],
   "source": [
    "test_predict = SA_lr_best.predict(test_tfidf)"
   ]
  },
  {
   "cell_type": "code",
   "execution_count": 32,
   "id": "a7e8395e",
   "metadata": {},
   "outputs": [
    {
     "name": "stdout",
     "output_type": "stream",
     "text": [
      "감성 분석 정확도 :  0.963\n"
     ]
    }
   ],
   "source": [
    "from sklearn.metrics import accuracy_score\n",
    "print('감성 분석 정확도 : ', round(accuracy_score(Y_test, test_predict), 3))"
   ]
  },
  {
   "cell_type": "code",
   "execution_count": 45,
   "id": "5ad79aca",
   "metadata": {
    "scrolled": false
   },
   "outputs": [
    {
     "name": "stdout",
     "output_type": "stream",
     "text": [
      "감성 분석할 문장 입력>>살이 쪄서 바지가 너무 작아졌어 큰일이다!!\n"
     ]
    }
   ],
   "source": [
    "st = input('감성 분석할 문장 입력>>')"
   ]
  },
  {
   "cell_type": "code",
   "execution_count": 46,
   "id": "961312c2",
   "metadata": {},
   "outputs": [
    {
     "name": "stdout",
     "output_type": "stream",
     "text": [
      "['살이', '쪄서', '바지가', '너무', '작아졌어', '큰일이다']\n",
      "['살이 쪄서 바지가 너무 작아졌어 큰일이다']\n"
     ]
    }
   ],
   "source": [
    "st = re.compile(r'[ㄱ-ㅣ가-힣]+').findall(st)\n",
    "print(st)\n",
    "st=[\" \".join(st)]\n",
    "print(st)"
   ]
  },
  {
   "cell_type": "code",
   "execution_count": 47,
   "id": "214e5431",
   "metadata": {},
   "outputs": [],
   "source": [
    "st_tfidf = tfidf.transform(st)\n",
    "st_predict = SA_lr_best.predict(st_tfidf)"
   ]
  },
  {
   "cell_type": "code",
   "execution_count": 48,
   "id": "78e831f2",
   "metadata": {},
   "outputs": [
    {
     "name": "stdout",
     "output_type": "stream",
     "text": [
      "['살이 쪄서 바지가 너무 작아졌어 큰일이다'] -> 부정 감성\n"
     ]
    }
   ],
   "source": [
    "if(st_predict == 0):\n",
    "    print(st, \"-> 부정 감성\")\n",
    "else:\n",
    "    print(st,\"-> 긍정 감성\")"
   ]
  },
  {
   "cell_type": "code",
   "execution_count": null,
   "id": "fe0dfb1e",
   "metadata": {},
   "outputs": [],
   "source": []
  }
 ],
 "metadata": {
  "kernelspec": {
   "display_name": "Python 3 (ipykernel)",
   "language": "python",
   "name": "python3"
  },
  "language_info": {
   "codemirror_mode": {
    "name": "ipython",
    "version": 3
   },
   "file_extension": ".py",
   "mimetype": "text/x-python",
   "name": "python",
   "nbconvert_exporter": "python",
   "pygments_lexer": "ipython3",
   "version": "3.9.13"
  }
 },
 "nbformat": 4,
 "nbformat_minor": 5
}
